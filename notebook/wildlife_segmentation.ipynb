{
 "cells": [
  {
   "cell_type": "code",
   "execution_count": 2,
   "metadata": {
    "id": "ctJPBO4CuSa0"
   },
   "outputs": [],
   "source": [
    "import math\n",
    "import os\n",
    "import random\n",
    "import numpy as np\n",
    "import skimage\n",
    "import scipy\n",
    "import pickle\n",
    "\n",
    "import tensorflow as tf\n",
    "import matplotlib.pyplot as plt\n",
    "from sklearn.cluster import KMeans\n",
    "from sklearn import metrics\n",
    "\n",
    "from sklearn.model_selection import train_test_split"
   ]
  },
  {
   "cell_type": "code",
   "execution_count": 3,
   "metadata": {
    "id": "c_5K-kQByTW6"
   },
   "outputs": [],
   "source": [
    "os.chdir('../')"
   ]
  },
  {
   "cell_type": "code",
   "execution_count": 4,
   "metadata": {
    "id": "FmXpXhYgyazl"
   },
   "outputs": [],
   "source": [
    "with open('../xtrain.npy','rb') as f:\n",
    "    x = np.load('../xtrain.npy')"
   ]
  },
  {
   "cell_type": "code",
   "execution_count": 5,
   "metadata": {},
   "outputs": [],
   "source": [
    "X_train, X_test = train_test_split(x, random_state=False, test_size=0.2, shuffle=True)"
   ]
  },
  {
   "cell_type": "code",
   "execution_count": 6,
   "metadata": {
    "id": "Gzyk0Q0Tyh6l"
   },
   "outputs": [],
   "source": [
    "#Take the example from the newly created numpy dataset\n",
    "first_example = x[0]\n",
    "first_example_image = tf.keras.preprocessing.image.array_to_img(first_example.reshape(224,224,3))\n",
    "first_example_image.show()"
   ]
  },
  {
   "cell_type": "code",
   "execution_count": 9,
   "metadata": {
    "id": "ZujkLl2myl1O"
   },
   "outputs": [],
   "source": [
    "original_image = tf.keras.preprocessing.image.load_img(\"../images/Set3/buffalo/001.jpg\")\n",
    "original_image_to_array = tf.keras.preprocessing.image.img_to_array(original_image)\n",
    "reshaped_image = original_image_to_array.reshape(-1,3)/255.0"
   ]
  },
  {
   "cell_type": "code",
   "execution_count": 17,
   "metadata": {
    "id": "zyynh3HcyoXO",
    "scrolled": true
   },
   "outputs": [],
   "source": [
    "#Using KMeans Algorithm for Image Segmentation\n",
    "X_train= x.reshape(-1,3)\n",
    "kmeans = KMeans(n_clusters = 4,random_state=1).fit(X_train)\n",
    "pickle.dump(kmeans,open('models/four_clusters','wb'))"
   ]
  },
  {
   "cell_type": "code",
   "execution_count": 20,
   "metadata": {},
   "outputs": [
    {
     "data": {
      "text/plain": [
       "dtype('float64')"
      ]
     },
     "execution_count": 20,
     "metadata": {},
     "output_type": "execute_result"
    }
   ],
   "source": [
    "X_test.dtype"
   ]
  },
  {
   "cell_type": "code",
   "execution_count": 39,
   "metadata": {
    "id": "UvfcKBPsypoR",
    "scrolled": true
   },
   "outputs": [
    {
     "name": "stderr",
     "output_type": "stream",
     "text": [
      "D:\\COMP303\\venv\\lib\\site-packages\\sklearn\\base.py:347: InconsistentVersionWarning: Trying to unpickle estimator KMeans from version 1.0.2 when using version 1.3.0. This might lead to breaking code or invalid results. Use at your own risk. For more info please refer to:\n",
      "https://scikit-learn.org/stable/model_persistence.html#security-maintainability-limitations\n",
      "  warnings.warn(\n"
     ]
    }
   ],
   "source": [
    "kmeans = pickle.load(open('../models/four_clusters','rb'))\n",
    "#buffer data type mismatch fixed by casting X_Test.dtype to float32 which is same as that of kmeans.cluster_centers_.dtype\n",
    "training_images = X_test[np.random.permutation(225)[:10]].astype(\"f\") \n",
    "num = 0\n",
    "for i in training_images:\n",
    "    prediction = kmeans.predict(i)\n",
    "    recovered_image = kmeans.cluster_centers_[prediction,:]\n",
    "    recovered_image_array = np.reshape(recovered_image,(224,224,3))*255.0\n",
    "    recovered_image = tf.keras.preprocessing.image.array_to_img(recovered_image_array)\n",
    "    recovered_image.save(f\"../images/Set2/KMeans Predictions/Prediction {num}.JPG\")\n",
    "    num = num + 1 "
   ]
  },
  {
   "cell_type": "code",
   "execution_count": 40,
   "metadata": {},
   "outputs": [],
   "source": [
    "distortions = []\n",
    "for i in range(1, 11):\n",
    "    km = KMeans(\n",
    "        n_clusters=i, init='random',\n",
    "        n_init=10, max_iter=300,\n",
    "        tol=1e-04, random_state=0\n",
    "    )\n",
    "    km.fit(reshaped_dataset)\n",
    "    distortions.append(km.inertia_)\n",
    "\n",
    "# plot\n",
    "plt.plot(range(1, 4), distortions, marker='o')\n",
    "plt.xlabel('Number of clusters')\n",
    "plt.ylabel('Distortion')\n",
    "plt.show()"
   ]
  },
  {
   "cell_type": "code",
   "execution_count": null,
   "metadata": {},
   "outputs": [],
   "source": []
  }
 ],
 "metadata": {
  "colab": {
   "provenance": []
  },
  "kernelspec": {
   "display_name": "Python 3 (ipykernel)",
   "language": "python",
   "name": "python3"
  },
  "language_info": {
   "codemirror_mode": {
    "name": "ipython",
    "version": 3
   },
   "file_extension": ".py",
   "mimetype": "text/x-python",
   "name": "python",
   "nbconvert_exporter": "python",
   "pygments_lexer": "ipython3",
   "version": "3.8.0"
  }
 },
 "nbformat": 4,
 "nbformat_minor": 4
}
